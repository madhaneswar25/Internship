{
 "cells": [
  {
   "cell_type": "markdown",
   "id": "913fb467",
   "metadata": {},
   "source": [
    "# Question 1- Write a Python program to check that a string contains only a certain set of characters (in this case a-z, A-Z and 0-9)."
   ]
  },
  {
   "cell_type": "code",
   "execution_count": 2,
   "id": "25e68a80",
   "metadata": {},
   "outputs": [],
   "source": [
    "import regex as re"
   ]
  },
  {
   "cell_type": "code",
   "execution_count": null,
   "id": "1a19b204",
   "metadata": {},
   "outputs": [],
   "source": [
    "pattern = r'^[a-zA-Z0-9]+$'\n"
   ]
  },
  {
   "cell_type": "markdown",
   "id": "8ce43569",
   "metadata": {},
   "source": [
    "# Question 2- Create a function in python that matches a string that has an a followed by zero or more b's"
   ]
  },
  {
   "cell_type": "code",
   "execution_count": null,
   "id": "967d3301",
   "metadata": {},
   "outputs": [],
   "source": [
    "pattern = r'ab*'"
   ]
  },
  {
   "cell_type": "markdown",
   "id": "f5671297",
   "metadata": {},
   "source": [
    "# Question 3-  Create a function in python that matches a string that has an a followed by one or more b's"
   ]
  },
  {
   "cell_type": "code",
   "execution_count": null,
   "id": "9d22a949",
   "metadata": {},
   "outputs": [],
   "source": [
    " pattern = r'ab+'"
   ]
  },
  {
   "cell_type": "markdown",
   "id": "f5a2e608",
   "metadata": {},
   "source": [
    "# Question 4- Create a function in Python and use RegEx that matches a string that has an a followed by zero or one 'b'."
   ]
  },
  {
   "cell_type": "code",
   "execution_count": null,
   "id": "3b1235eb",
   "metadata": {},
   "outputs": [],
   "source": [
    "pattern=r'ab?'"
   ]
  },
  {
   "cell_type": "markdown",
   "id": "e37fffe3",
   "metadata": {},
   "source": [
    "# Question 5- Write a Python program that matches a string that has an a followed by three 'b'."
   ]
  },
  {
   "cell_type": "code",
   "execution_count": null,
   "id": "24189eb0",
   "metadata": {},
   "outputs": [],
   "source": [
    "pattern = r'ab{3}'\n"
   ]
  },
  {
   "cell_type": "markdown",
   "id": "71263406",
   "metadata": {},
   "source": [
    "# Question 6- Write a regular expression in Python to split a string into uppercase letters.\n",
    "Sample text: “ImportanceOfRegularExpressionsInPython”\n",
    "Output: [‘Importance’, ‘Of’, ‘Regular’, ‘Expression’, ‘In’, ‘Python’]"
   ]
  },
  {
   "cell_type": "code",
   "execution_count": null,
   "id": "96418ea4",
   "metadata": {},
   "outputs": [],
   "source": [
    "text=(\"ImportanceOfRegularExpressionsInPython\")\n",
    "x=re.split(\"\\s\",text,1)\n",
    "print(x)"
   ]
  },
  {
   "cell_type": "markdown",
   "id": "3edbe784",
   "metadata": {},
   "source": [
    "# Question 7- Write a Python program that matches a string that has an a followed by two to three 'b'."
   ]
  },
  {
   "cell_type": "code",
   "execution_count": null,
   "id": "5d05508f",
   "metadata": {},
   "outputs": [],
   "source": [
    " pattern = r'ab{2,3}'"
   ]
  },
  {
   "cell_type": "markdown",
   "id": "0b98a524",
   "metadata": {},
   "source": [
    "# Question 8- Write a Python program to find sequences of lowercase letters joined with a underscore."
   ]
  },
  {
   "cell_type": "code",
   "execution_count": null,
   "id": "eac39152",
   "metadata": {},
   "outputs": [],
   "source": [
    " pattern = r'[a-z]+_[a-z]+'"
   ]
  },
  {
   "cell_type": "markdown",
   "id": "f1b7d162",
   "metadata": {},
   "source": [
    "# Question 9- Write a Python program that matches a string that has an 'a' followed by anything, ending in 'b'."
   ]
  },
  {
   "cell_type": "code",
   "execution_count": null,
   "id": "cec41960",
   "metadata": {},
   "outputs": [],
   "source": [
    " pattern = r'a.*b$'"
   ]
  },
  {
   "cell_type": "markdown",
   "id": "586e78c7",
   "metadata": {},
   "source": [
    "# Question 10- Write a Python program that matches a word at the beginning of a string."
   ]
  },
  {
   "cell_type": "code",
   "execution_count": null,
   "id": "4d4787de",
   "metadata": {},
   "outputs": [],
   "source": [
    "pattern=r'^\\W+'"
   ]
  },
  {
   "cell_type": "markdown",
   "id": "9e1a72ff",
   "metadata": {},
   "source": [
    "# Question 11- Write a Python program to match a string that contains only upper and lowercase letters, numbers, and underscores."
   ]
  },
  {
   "cell_type": "code",
   "execution_count": null,
   "id": "fa3df796",
   "metadata": {},
   "outputs": [],
   "source": [
    "pattern = r'^[a-zA-Z0-9_]+$'"
   ]
  },
  {
   "cell_type": "markdown",
   "id": "2cf70192",
   "metadata": {},
   "source": [
    "# Question 12- Write a Python program where a string will start with a specific number."
   ]
  },
  {
   "cell_type": "code",
   "execution_count": null,
   "id": "888e920f",
   "metadata": {},
   "outputs": [],
   "source": [
    "patteer=r'^\\d+'"
   ]
  },
  {
   "cell_type": "markdown",
   "id": "3e29e12e",
   "metadata": {},
   "source": [
    "# Question 13- Write a Python program to remove leading zeros from an IP address"
   ]
  },
  {
   "cell_type": "code",
   "execution_count": null,
   "id": "aecb1793",
   "metadata": {},
   "outputs": [],
   "source": [
    "re.sub(r'[0]+',r'*',ip adress)"
   ]
  },
  {
   "cell_type": "markdown",
   "id": "14cdf9ec",
   "metadata": {},
   "source": [
    "# Question 14- Write a regular expression in python to match a date string in the form of Month name followed by day number and year stored in a text file."
   ]
  },
  {
   "cell_type": "code",
   "execution_count": null,
   "id": "e2596217",
   "metadata": {},
   "outputs": [],
   "source": [
    "text= ' On August 15th 1947 that India was declared independent from British colonialism, and the reins of control were handed over to the leaders of the Country’.\n",
    "pattern="
   ]
  },
  {
   "cell_type": "markdown",
   "id": "cde8bebb",
   "metadata": {},
   "source": [
    "# Question 15- Write a Python program to search some literals strings in a string. Go to the editor\n",
    "Sample text : 'The quick brown fox jumps over the lazy dog.'"
   ]
  },
  {
   "cell_type": "code",
   "execution_count": null,
   "id": "f7c9721f",
   "metadata": {},
   "outputs": [],
   "source": []
  },
  {
   "cell_type": "markdown",
   "id": "03f2aa62",
   "metadata": {},
   "source": [
    "# Question 17- Write a Python program to find the substrings within a string.\n",
    "Sample text : 'Python exercises, PHP exercises, C# exercises'"
   ]
  },
  {
   "cell_type": "code",
   "execution_count": null,
   "id": "2382815e",
   "metadata": {},
   "outputs": [],
   "source": []
  },
  {
   "cell_type": "markdown",
   "id": "88b61ea6",
   "metadata": {},
   "source": [
    "# Question 20- Write a Python program to find all words starting with 'a' or 'e' in a given string."
   ]
  },
  {
   "cell_type": "code",
   "execution_count": 5,
   "id": "07e2cfd3",
   "metadata": {},
   "outputs": [],
   "source": [
    "pattern = r'\\b[aAeE]\\w+\\b'"
   ]
  },
  {
   "cell_type": "markdown",
   "id": "12495900",
   "metadata": {},
   "source": [
    "# Question 21- Write a Python program to separate and print the numbers and their position of a given string."
   ]
  },
  {
   "cell_type": "code",
   "execution_count": 6,
   "id": "3eb24c6e",
   "metadata": {},
   "outputs": [],
   "source": [
    "pattern = r'\\b\\d+\\b'"
   ]
  },
  {
   "cell_type": "markdown",
   "id": "5a87c801",
   "metadata": {},
   "source": [
    "# Question 22- Write a regular expression in python program to extract maximum numeric value from a string"
   ]
  },
  {
   "cell_type": "code",
   "execution_count": 7,
   "id": "4c203c10",
   "metadata": {},
   "outputs": [],
   "source": [
    "pattern = r'\\b\\d+\\b'\n"
   ]
  },
  {
   "cell_type": "markdown",
   "id": "8f7f0ab6",
   "metadata": {},
   "source": [
    "# Question 23- Write a Regex in Python to put spaces between words starting with capital letters"
   ]
  },
  {
   "cell_type": "code",
   "execution_count": 8,
   "id": "06fa372d",
   "metadata": {},
   "outputs": [],
   "source": [
    " pattern = r'(?<!^)(?=[A-Z])'"
   ]
  },
  {
   "cell_type": "markdown",
   "id": "6027b668",
   "metadata": {},
   "source": [
    "# Question 24- Python regex to find sequences of one upper case letter followed by lower case letters"
   ]
  },
  {
   "cell_type": "code",
   "execution_count": 9,
   "id": "6c2e3566",
   "metadata": {},
   "outputs": [],
   "source": [
    " pattern = r'[A-Z][a-z]+'"
   ]
  },
  {
   "cell_type": "markdown",
   "id": "19aea90b",
   "metadata": {},
   "source": [
    "# Question 25- Write a Python program to remove duplicate words from Sentence using Regular Expression"
   ]
  },
  {
   "cell_type": "code",
   "execution_count": 3,
   "id": "ee837c4b",
   "metadata": {},
   "outputs": [
    {
     "ename": "SyntaxError",
     "evalue": "EOL while scanning string literal (3338224026.py, line 1)",
     "output_type": "error",
     "traceback": [
      "\u001b[1;36m  File \u001b[1;32m\"C:\\Users\\nandh\\AppData\\Local\\Temp\\ipykernel_9712\\3338224026.py\"\u001b[1;36m, line \u001b[1;32m1\u001b[0m\n\u001b[1;33m    pattern = r'\\b(\\w+)\\b\\s+(?=.*\\b\\1\\b)\u001b[0m\n\u001b[1;37m                                        ^\u001b[0m\n\u001b[1;31mSyntaxError\u001b[0m\u001b[1;31m:\u001b[0m EOL while scanning string literal\n"
     ]
    }
   ],
   "source": [
    "pattern = r'\\b(\\w+)\\b\\s+(?=.*\\b\\1\\b)\n",
    " = re.sub(pattern, '', sentence)"
   ]
  },
  {
   "cell_type": "markdown",
   "id": "4d691fbe",
   "metadata": {},
   "source": [
    "# Question 26-  Write a python program using RegEx to accept string ending with alphanumeric character.\n"
   ]
  },
  {
   "cell_type": "code",
   "execution_count": 4,
   "id": "08ef7678",
   "metadata": {},
   "outputs": [
    {
     "ename": "NameError",
     "evalue": "name 'string' is not defined",
     "output_type": "error",
     "traceback": [
      "\u001b[1;31m---------------------------------------------------------------------------\u001b[0m",
      "\u001b[1;31mNameError\u001b[0m                                 Traceback (most recent call last)",
      "\u001b[1;32m~\\AppData\\Local\\Temp\\ipykernel_9712\\962276794.py\u001b[0m in \u001b[0;36m<module>\u001b[1;34m\u001b[0m\n\u001b[0;32m      1\u001b[0m \u001b[0mpattern\u001b[0m \u001b[1;33m=\u001b[0m \u001b[1;34mr'^.*[a-zA-Z0-9]$'\u001b[0m\u001b[1;33m\u001b[0m\u001b[1;33m\u001b[0m\u001b[0m\n\u001b[1;32m----> 2\u001b[1;33m \u001b[0mmatch\u001b[0m \u001b[1;33m=\u001b[0m \u001b[0mre\u001b[0m\u001b[1;33m.\u001b[0m\u001b[0mmatch\u001b[0m\u001b[1;33m(\u001b[0m\u001b[0mpattern\u001b[0m\u001b[1;33m,\u001b[0m \u001b[0mstring\u001b[0m\u001b[1;33m)\u001b[0m\u001b[1;33m\u001b[0m\u001b[1;33m\u001b[0m\u001b[0m\n\u001b[0m",
      "\u001b[1;31mNameError\u001b[0m: name 'string' is not defined"
     ]
    }
   ],
   "source": [
    "pattern = r'^.*[a-zA-Z0-9]$'\n",
    "match = re.match(pattern, string)"
   ]
  },
  {
   "cell_type": "markdown",
   "id": "a378e4b9",
   "metadata": {},
   "source": [
    "# Question 27-Write a python program using RegEx to extract the hashtags.\n",
    "Sample Text: text = \"\"\"RT @kapil_kausik: #Doltiwal I mean #xyzabc is \"hurt\" by #Demonetization as the same has rendered USELESS <ed><U+00A0><U+00BD><ed><U+00B1><U+0089> \"acquired funds\" No wo\"\"\""
   ]
  },
  {
   "cell_type": "code",
   "execution_count": 5,
   "id": "f31f9a56",
   "metadata": {
    "scrolled": true
   },
   "outputs": [
    {
     "ename": "NameError",
     "evalue": "name 'text' is not defined",
     "output_type": "error",
     "traceback": [
      "\u001b[1;31m---------------------------------------------------------------------------\u001b[0m",
      "\u001b[1;31mNameError\u001b[0m                                 Traceback (most recent call last)",
      "\u001b[1;32m~\\AppData\\Local\\Temp\\ipykernel_9712\\3056509289.py\u001b[0m in \u001b[0;36m<module>\u001b[1;34m\u001b[0m\n\u001b[0;32m      1\u001b[0m \u001b[0mpattern\u001b[0m \u001b[1;33m=\u001b[0m \u001b[1;34mr'#\\w+'\u001b[0m\u001b[1;33m\u001b[0m\u001b[1;33m\u001b[0m\u001b[0m\n\u001b[1;32m----> 2\u001b[1;33m \u001b[0mhashtags\u001b[0m \u001b[1;33m=\u001b[0m \u001b[0mre\u001b[0m\u001b[1;33m.\u001b[0m\u001b[0mfindall\u001b[0m\u001b[1;33m(\u001b[0m\u001b[0mpattern\u001b[0m\u001b[1;33m,\u001b[0m \u001b[0mtext\u001b[0m\u001b[1;33m)\u001b[0m\u001b[1;33m\u001b[0m\u001b[1;33m\u001b[0m\u001b[0m\n\u001b[0m",
      "\u001b[1;31mNameError\u001b[0m: name 'text' is not defined"
     ]
    }
   ],
   "source": [
    "pattern = r'#\\w+'\n",
    "hashtags = re.findall(pattern, text)"
   ]
  },
  {
   "cell_type": "markdown",
   "id": "e517e371",
   "metadata": {},
   "source": [
    "# Question 28- Write a python program using RegEx to remove <U+..> like symbols\n",
    "Check the below sample text, there are strange symbols something of the sort <U+..> all over the place. You need to come up with a general Regex expression that will cover all such symbols.\n",
    "Sample Text: \"@Jags123456 Bharat band on 28??<ed><U+00A0><U+00BD><ed><U+00B8><U+0082>Those who  are protesting #demonetization  are all different party leaders\""
   ]
  },
  {
   "cell_type": "code",
   "execution_count": 6,
   "id": "7446f066",
   "metadata": {},
   "outputs": [
    {
     "name": "stdout",
     "output_type": "stream",
     "text": [
      "@Jags123456 Bharat band on 28??<ed><ed>Those who  are protesting #demonetization  are all different party leaders\n"
     ]
    }
   ],
   "source": [
    "import regex as re\n",
    "text=\"@Jags123456 Bharat band on 28??<ed><U+00A0><U+00BD><ed><U+00B8><U+0082>Those who  are protesting #demonetization  are all different party leaders\"\n",
    "pattern = r'<U\\+\\w{4}>'\n",
    "cleaned_text = re.sub(pattern, '', text)\n",
    "print(cleaned_text)"
   ]
  },
  {
   "cell_type": "markdown",
   "id": "2cac7d83",
   "metadata": {},
   "source": [
    "# Question 29- Write a python program to extract dates from the text stored in the text file.\n",
    "Sample Text: Ron was born on 12-09-1992 and he was admitted to school 15-12-1999."
   ]
  },
  {
   "cell_type": "code",
   "execution_count": null,
   "id": "75eea211",
   "metadata": {},
   "outputs": [],
   "source": [
    "with open(\"http://localhost:8888/tree/Downloads/regex/Untitled%20Folder\")\n",
    "for ins in file"
   ]
  },
  {
   "cell_type": "markdown",
   "id": "dd53b82a",
   "metadata": {},
   "source": [
    "# Question 30- Write a python program to extract dates from the text stored in the text file.\n",
    "Sample Text: Ron was born on 12-09-1992 and he was admitted to school 15-12-1999.\n",
    "Store this sample text in the file and then extract dates."
   ]
  },
  {
   "cell_type": "code",
   "execution_count": null,
   "id": "b306d5f6",
   "metadata": {},
   "outputs": [],
   "source": [
    "with open(\"http://localhost:8888/tree/Downloads/regex/Untitled%20Folder\")"
   ]
  }
 ],
 "metadata": {
  "kernelspec": {
   "display_name": "Python 3 (ipykernel)",
   "language": "python",
   "name": "python3"
  },
  "language_info": {
   "codemirror_mode": {
    "name": "ipython",
    "version": 3
   },
   "file_extension": ".py",
   "mimetype": "text/x-python",
   "name": "python",
   "nbconvert_exporter": "python",
   "pygments_lexer": "ipython3",
   "version": "3.9.13"
  }
 },
 "nbformat": 4,
 "nbformat_minor": 5
}
